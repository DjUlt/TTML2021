{
 "cells": [
  {
   "cell_type": "code",
   "execution_count": 1,
   "id": "3c214c3e-c1f5-4556-ba09-6dfa235fc344",
   "metadata": {},
   "outputs": [],
   "source": [
    "import numpy as np\n",
    "import pandas as pd\n",
    "import seaborn as sns\n",
    "import sklearn as sk"
   ]
  },
  {
   "cell_type": "code",
   "execution_count": 2,
   "id": "1a5bc9b7-d67c-4577-bd2d-073aec15e99f",
   "metadata": {},
   "outputs": [],
   "source": [
    "train = pd.read_csv('train.csv', index_col=0)\n",
    "test = pd.read_csv('test_no_target.csv', index_col=0)"
   ]
  },
  {
   "cell_type": "code",
   "execution_count": 3,
   "id": "d339281f-07b2-4883-9917-ea93f64d5e08",
   "metadata": {
    "scrolled": false
   },
   "outputs": [
    {
     "data": {
      "text/html": [
       "<div>\n",
       "<style scoped>\n",
       "    .dataframe tbody tr th:only-of-type {\n",
       "        vertical-align: middle;\n",
       "    }\n",
       "\n",
       "    .dataframe tbody tr th {\n",
       "        vertical-align: top;\n",
       "    }\n",
       "\n",
       "    .dataframe thead th {\n",
       "        text-align: right;\n",
       "    }\n",
       "</style>\n",
       "<table border=\"1\" class=\"dataframe\">\n",
       "  <thead>\n",
       "    <tr style=\"text-align: right;\">\n",
       "      <th></th>\n",
       "      <th>engine_capacity</th>\n",
       "      <th>type</th>\n",
       "      <th>registration_year</th>\n",
       "      <th>gearbox</th>\n",
       "      <th>power</th>\n",
       "      <th>model</th>\n",
       "      <th>mileage</th>\n",
       "      <th>fuel</th>\n",
       "      <th>brand</th>\n",
       "      <th>damage</th>\n",
       "      <th>zipcode</th>\n",
       "      <th>insurance_price</th>\n",
       "      <th>price</th>\n",
       "    </tr>\n",
       "  </thead>\n",
       "  <tbody>\n",
       "    <tr>\n",
       "      <th>48298</th>\n",
       "      <td>2.0</td>\n",
       "      <td>bus</td>\n",
       "      <td>2006</td>\n",
       "      <td>auto</td>\n",
       "      <td>140</td>\n",
       "      <td>c4</td>\n",
       "      <td>150000</td>\n",
       "      <td>gasoline</td>\n",
       "      <td>citroen</td>\n",
       "      <td>0.0</td>\n",
       "      <td>49191</td>\n",
       "      <td>380.0</td>\n",
       "      <td>4267</td>\n",
       "    </tr>\n",
       "    <tr>\n",
       "      <th>81047</th>\n",
       "      <td>NaN</td>\n",
       "      <td>NaN</td>\n",
       "      <td>2016</td>\n",
       "      <td>NaN</td>\n",
       "      <td>0</td>\n",
       "      <td>vito</td>\n",
       "      <td>150000</td>\n",
       "      <td>NaN</td>\n",
       "      <td>mercedes_benz</td>\n",
       "      <td>NaN</td>\n",
       "      <td>45896</td>\n",
       "      <td>NaN</td>\n",
       "      <td>2457</td>\n",
       "    </tr>\n",
       "    <tr>\n",
       "      <th>92754</th>\n",
       "      <td>2.2</td>\n",
       "      <td>limousine</td>\n",
       "      <td>2010</td>\n",
       "      <td>manual</td>\n",
       "      <td>175</td>\n",
       "      <td>mondeo</td>\n",
       "      <td>125000</td>\n",
       "      <td>diesel</td>\n",
       "      <td>ford</td>\n",
       "      <td>0.0</td>\n",
       "      <td>59229</td>\n",
       "      <td>930.0</td>\n",
       "      <td>10374</td>\n",
       "    </tr>\n",
       "    <tr>\n",
       "      <th>46007</th>\n",
       "      <td>NaN</td>\n",
       "      <td>NaN</td>\n",
       "      <td>2000</td>\n",
       "      <td>auto</td>\n",
       "      <td>265</td>\n",
       "      <td>andere</td>\n",
       "      <td>150000</td>\n",
       "      <td>gasoline</td>\n",
       "      <td>ford</td>\n",
       "      <td>0.0</td>\n",
       "      <td>39365</td>\n",
       "      <td>680.0</td>\n",
       "      <td>7098</td>\n",
       "    </tr>\n",
       "    <tr>\n",
       "      <th>76981</th>\n",
       "      <td>NaN</td>\n",
       "      <td>convertible</td>\n",
       "      <td>3</td>\n",
       "      <td>manual</td>\n",
       "      <td>109</td>\n",
       "      <td>2_reihe</td>\n",
       "      <td>150000</td>\n",
       "      <td>gasoline</td>\n",
       "      <td>peugeot</td>\n",
       "      <td>0.0</td>\n",
       "      <td>55271</td>\n",
       "      <td>NaN</td>\n",
       "      <td>2365</td>\n",
       "    </tr>\n",
       "  </tbody>\n",
       "</table>\n",
       "</div>"
      ],
      "text/plain": [
       "       engine_capacity         type  registration_year gearbox  power  \\\n",
       "48298              2.0          bus               2006    auto    140   \n",
       "81047              NaN          NaN               2016     NaN      0   \n",
       "92754              2.2    limousine               2010  manual    175   \n",
       "46007              NaN          NaN               2000    auto    265   \n",
       "76981              NaN  convertible                  3  manual    109   \n",
       "\n",
       "         model  mileage      fuel          brand  damage  zipcode  \\\n",
       "48298       c4   150000  gasoline        citroen     0.0    49191   \n",
       "81047     vito   150000       NaN  mercedes_benz     NaN    45896   \n",
       "92754   mondeo   125000    diesel           ford     0.0    59229   \n",
       "46007   andere   150000  gasoline           ford     0.0    39365   \n",
       "76981  2_reihe   150000  gasoline        peugeot     0.0    55271   \n",
       "\n",
       "       insurance_price  price  \n",
       "48298            380.0   4267  \n",
       "81047              NaN   2457  \n",
       "92754            930.0  10374  \n",
       "46007            680.0   7098  \n",
       "76981              NaN   2365  "
      ]
     },
     "execution_count": 3,
     "metadata": {},
     "output_type": "execute_result"
    }
   ],
   "source": [
    "train.head()"
   ]
  },
  {
   "cell_type": "code",
   "execution_count": 4,
   "id": "6a5524cb",
   "metadata": {},
   "outputs": [],
   "source": [
    "train = train.drop(labels='zipcode', axis=1)\n",
    "test = test.drop(labels='zipcode', axis=1)"
   ]
  },
  {
   "cell_type": "code",
   "execution_count": 5,
   "id": "e136e576",
   "metadata": {},
   "outputs": [
    {
     "data": {
      "text/plain": [
       "array(['bus', 'convertible', 'coupé', 'limousine', 'other', 'small car',\n",
       "       'station wagon', nan], dtype=object)"
      ]
     },
     "execution_count": 5,
     "metadata": {},
     "output_type": "execute_result"
    }
   ],
   "source": [
    "from sklearn import preprocessing\n",
    "le = preprocessing.LabelEncoder()\n",
    "le.fit(train['type'].append(test['type']))\n",
    "le.classes_"
   ]
  },
  {
   "cell_type": "code",
   "execution_count": 6,
   "id": "74b113a3",
   "metadata": {},
   "outputs": [],
   "source": [
    "train['type'] = le.transform(train['type'])\n",
    "test['type'] = le.transform(test['type'])"
   ]
  },
  {
   "cell_type": "code",
   "execution_count": 7,
   "id": "c4caa3a8",
   "metadata": {},
   "outputs": [
    {
     "data": {
      "text/plain": [
       "array(['auto', 'manual', nan], dtype=object)"
      ]
     },
     "execution_count": 7,
     "metadata": {},
     "output_type": "execute_result"
    }
   ],
   "source": [
    "from sklearn import preprocessing\n",
    "le = preprocessing.LabelEncoder()\n",
    "le.fit(train['gearbox'].append(test['gearbox']))\n",
    "le.classes_"
   ]
  },
  {
   "cell_type": "code",
   "execution_count": 8,
   "id": "745aa92d",
   "metadata": {},
   "outputs": [],
   "source": [
    "train['gearbox'] = le.transform(train['gearbox'])\n",
    "test['gearbox'] = le.transform(test['gearbox'])"
   ]
  },
  {
   "cell_type": "code",
   "execution_count": 9,
   "id": "23ab1bf3",
   "metadata": {},
   "outputs": [
    {
     "data": {
      "text/plain": [
       "array(['compressed natural gas', 'diesel', 'gasoline',\n",
       "       'liquefied petroleum gas', 'other', nan], dtype=object)"
      ]
     },
     "execution_count": 9,
     "metadata": {},
     "output_type": "execute_result"
    }
   ],
   "source": [
    "from sklearn import preprocessing\n",
    "le = preprocessing.LabelEncoder()\n",
    "le.fit(train['fuel'].append(test['fuel']))\n",
    "le.classes_"
   ]
  },
  {
   "cell_type": "code",
   "execution_count": 10,
   "id": "253afe79",
   "metadata": {},
   "outputs": [],
   "source": [
    "train['fuel'] = le.transform(train['fuel'])\n",
    "test['fuel'] = le.transform(test['fuel'])"
   ]
  },
  {
   "cell_type": "code",
   "execution_count": 11,
   "id": "77890178",
   "metadata": {},
   "outputs": [
    {
     "data": {
      "text/plain": [
       "array(['alfa_romeo', 'audi', 'bmw', 'chevrolet', 'chrysler', 'citroen',\n",
       "       'dacia', 'daewoo', 'daihatsu', 'fiat', 'ford', 'honda', 'hyundai',\n",
       "       'jaguar', 'jeep', 'kia', 'lada', 'lancia', 'land_rover', 'mazda',\n",
       "       'mercedes_benz', 'mini', 'mitsubishi', 'nissan', 'opel', 'peugeot',\n",
       "       'porsche', 'renault', 'rover', 'saab', 'seat', 'skoda', 'smart',\n",
       "       'sonstige_autos', 'subaru', 'suzuki', 'toyota', 'trabant',\n",
       "       'volkswagen', 'volvo'], dtype=object)"
      ]
     },
     "execution_count": 11,
     "metadata": {},
     "output_type": "execute_result"
    }
   ],
   "source": [
    "from sklearn import preprocessing\n",
    "le = preprocessing.LabelEncoder()\n",
    "le.fit(train['brand'].append(test['brand']))\n",
    "le.classes_"
   ]
  },
  {
   "cell_type": "code",
   "execution_count": 12,
   "id": "0e67c3bf",
   "metadata": {},
   "outputs": [],
   "source": [
    "train['brand'] = le.transform(train['brand'])\n",
    "test['brand'] = le.transform(test['brand'])"
   ]
  },
  {
   "cell_type": "code",
   "execution_count": 13,
   "id": "c0fb58d2",
   "metadata": {},
   "outputs": [
    {
     "data": {
      "text/plain": [
       "array(['100', '145', '147', '156', '159', '1_reihe', '1er', '200',\n",
       "       '2_reihe', '300c', '3_reihe', '3er', '4_reihe', '500', '5_reihe',\n",
       "       '5er', '601', '6_reihe', '6er', '7er', '80', '850', '90', '900',\n",
       "       '9000', '911', 'a1', 'a2', 'a3', 'a4', 'a5', 'a6', 'a8',\n",
       "       'a_klasse', 'accord', 'agila', 'alhambra', 'almera', 'altea',\n",
       "       'amarok', 'andere', 'antara', 'arosa', 'astra', 'auris', 'avensis',\n",
       "       'aveo', 'aygo', 'b_klasse', 'b_max', 'beetle', 'berlingo', 'bora',\n",
       "       'boxster', 'bravo', 'c1', 'c2', 'c3', 'c4', 'c5', 'c_klasse',\n",
       "       'c_max', 'c_reihe', 'caddy', 'calibra', 'captiva', 'carisma',\n",
       "       'carnival', 'cayenne', 'cc', 'ceed', 'charade', 'cherokee',\n",
       "       'citigo', 'civic', 'cl', 'clio', 'clk', 'clubman', 'colt', 'combo',\n",
       "       'cooper', 'cordoba', 'corolla', 'corsa', 'cr_reihe', 'croma',\n",
       "       'crossfire', 'cuore', 'cx_reihe', 'defender', 'delta', 'discovery',\n",
       "       'discovery_sport', 'doblo', 'ducato', 'duster', 'e_klasse',\n",
       "       'elefantino', 'eos', 'escort', 'espace', 'exeo', 'fabia', 'fiesta',\n",
       "       'focus', 'forester', 'forfour', 'fortwo', 'fox', 'freelander',\n",
       "       'fusion', 'g_klasse', 'galant', 'galaxy', 'getz', 'gl', 'glk',\n",
       "       'golf', 'grand', 'i3', 'i_reihe', 'ibiza', 'impreza', 'insignia',\n",
       "       'jazz', 'jetta', 'jimny', 'juke', 'justy', 'ka', 'kadett',\n",
       "       'kaefer', 'kalina', 'kalos', 'kangoo', 'kappa', 'kuga', 'laguna',\n",
       "       'lancer', 'lanos', 'legacy', 'leon', 'lodgy', 'logan', 'lupo',\n",
       "       'lybra', 'm_klasse', 'm_reihe', 'materia', 'matiz', 'megane',\n",
       "       'meriva', 'micra', 'mii', 'modus', 'mondeo', 'move', 'musa',\n",
       "       'mustang', 'mx_reihe', 'navara', 'niva', 'note', 'nubira',\n",
       "       'octavia', 'omega', 'one', 'outlander', 'pajero', 'panda',\n",
       "       'passat', 'phaeton', 'picanto', 'polo', 'primera', 'ptcruiser',\n",
       "       'punto', 'q3', 'q5', 'q7', 'qashqai', 'r19', 'range_rover',\n",
       "       'range_rover_evoque', 'range_rover_sport', 'rangerover', 'rav',\n",
       "       'rio', 'roadster', 'roomster', 'rx_reihe', 's60', 's_klasse',\n",
       "       's_max', 's_type', 'samara', 'sandero', 'santa', 'scenic',\n",
       "       'scirocco', 'seicento', 'serie_2', 'serie_3', 'sharan', 'signum',\n",
       "       'sirion', 'sl', 'slk', 'sorento', 'spark', 'spider', 'sportage',\n",
       "       'sprinter', 'stilo', 'superb', 'swift', 'terios', 'tigra',\n",
       "       'tiguan', 'toledo', 'touareg', 'touran', 'transit', 'transporter',\n",
       "       'tt', 'tucson', 'twingo', 'up', 'v40', 'v50', 'v60', 'v70',\n",
       "       'v_klasse', 'vectra', 'verso', 'viano', 'vito', 'vivaro',\n",
       "       'voyager', 'wrangler', 'x_reihe', 'x_trail', 'x_type', 'xc_reihe',\n",
       "       'yaris', 'yeti', 'ypsilon', 'z_reihe', 'zafira', nan], dtype=object)"
      ]
     },
     "execution_count": 13,
     "metadata": {},
     "output_type": "execute_result"
    }
   ],
   "source": [
    "from sklearn import preprocessing\n",
    "le = preprocessing.LabelEncoder()\n",
    "le.fit(train['model'].append(test['model']))\n",
    "le.classes_"
   ]
  },
  {
   "cell_type": "code",
   "execution_count": 14,
   "id": "9762a89b",
   "metadata": {},
   "outputs": [],
   "source": [
    "train['model'] = le.transform(train['model'])\n",
    "test['model'] = le.transform(test['model'])"
   ]
  },
  {
   "cell_type": "code",
   "execution_count": 15,
   "id": "9948d9f2",
   "metadata": {},
   "outputs": [
    {
     "data": {
      "text/plain": [
       "<AxesSubplot:>"
      ]
     },
     "execution_count": 15,
     "metadata": {},
     "output_type": "execute_result"
    },
    {
     "data": {
      "image/png": "[encoded data removed]",
      "text/plain": [
       "<Figure size 432x288 with 2 Axes>"
      ]
     },
     "metadata": {
      "needs_background": "light"
     },
     "output_type": "display_data"
    }
   ],
   "source": [
    "sns.heatmap(train.isna())"
   ]
  },
  {
   "cell_type": "code",
   "execution_count": 16,
   "id": "6144276b",
   "metadata": {},
   "outputs": [
    {
     "data": {
      "text/plain": [
       "<AxesSubplot:>"
      ]
     },
     "execution_count": 16,
     "metadata": {},
     "output_type": "execute_result"
    },
    {
     "data": {
      "image/png": "[encoded data removed]",
      "text/plain": [
       "<Figure size 432x288 with 2 Axes>"
      ]
     },
     "metadata": {
      "needs_background": "light"
     },
     "output_type": "display_data"
    }
   ],
   "source": [
    "from sklearn.impute import SimpleImputer\n",
    "\n",
    "imp_mean = SimpleImputer(missing_values=np.nan, strategy='constant', fill_value=-1)\n",
    "\n",
    "impured_train = pd.DataFrame(imp_mean.fit_transform(train), columns=train.columns)\n",
    "impured_test = pd.DataFrame(imp_mean.fit_transform(test), columns=test.columns)\n",
    "\n",
    "sns.heatmap(impured_train.isna())"
   ]
  },
  {
   "cell_type": "code",
   "execution_count": 17,
   "id": "1bbf688e-47c1-487f-b926-47567895db46",
   "metadata": {
    "scrolled": true
   },
   "outputs": [
    {
     "data": {
      "text/html": [
       "<div>\n",
       "<style scoped>\n",
       "    .dataframe tbody tr th:only-of-type {\n",
       "        vertical-align: middle;\n",
       "    }\n",
       "\n",
       "    .dataframe tbody tr th {\n",
       "        vertical-align: top;\n",
       "    }\n",
       "\n",
       "    .dataframe thead th {\n",
       "        text-align: right;\n",
       "    }\n",
       "</style>\n",
       "<table border=\"1\" class=\"dataframe\">\n",
       "  <thead>\n",
       "    <tr style=\"text-align: right;\">\n",
       "      <th></th>\n",
       "      <th>engine_capacity</th>\n",
       "      <th>type</th>\n",
       "      <th>registration_year</th>\n",
       "      <th>gearbox</th>\n",
       "      <th>power</th>\n",
       "      <th>model</th>\n",
       "      <th>mileage</th>\n",
       "      <th>fuel</th>\n",
       "      <th>brand</th>\n",
       "      <th>damage</th>\n",
       "      <th>insurance_price</th>\n",
       "      <th>price</th>\n",
       "    </tr>\n",
       "  </thead>\n",
       "  <tbody>\n",
       "    <tr>\n",
       "      <th>0</th>\n",
       "      <td>2.0</td>\n",
       "      <td>0.0</td>\n",
       "      <td>2006.0</td>\n",
       "      <td>0.0</td>\n",
       "      <td>140.0</td>\n",
       "      <td>58.0</td>\n",
       "      <td>150000.0</td>\n",
       "      <td>2.0</td>\n",
       "      <td>5.0</td>\n",
       "      <td>0.0</td>\n",
       "      <td>380.0</td>\n",
       "      <td>4267.0</td>\n",
       "    </tr>\n",
       "    <tr>\n",
       "      <th>1</th>\n",
       "      <td>-1.0</td>\n",
       "      <td>7.0</td>\n",
       "      <td>2016.0</td>\n",
       "      <td>2.0</td>\n",
       "      <td>0.0</td>\n",
       "      <td>237.0</td>\n",
       "      <td>150000.0</td>\n",
       "      <td>5.0</td>\n",
       "      <td>20.0</td>\n",
       "      <td>-1.0</td>\n",
       "      <td>-1.0</td>\n",
       "      <td>2457.0</td>\n",
       "    </tr>\n",
       "    <tr>\n",
       "      <th>2</th>\n",
       "      <td>2.2</td>\n",
       "      <td>3.0</td>\n",
       "      <td>2010.0</td>\n",
       "      <td>1.0</td>\n",
       "      <td>175.0</td>\n",
       "      <td>156.0</td>\n",
       "      <td>125000.0</td>\n",
       "      <td>1.0</td>\n",
       "      <td>10.0</td>\n",
       "      <td>0.0</td>\n",
       "      <td>930.0</td>\n",
       "      <td>10374.0</td>\n",
       "    </tr>\n",
       "    <tr>\n",
       "      <th>3</th>\n",
       "      <td>-1.0</td>\n",
       "      <td>7.0</td>\n",
       "      <td>2000.0</td>\n",
       "      <td>0.0</td>\n",
       "      <td>265.0</td>\n",
       "      <td>40.0</td>\n",
       "      <td>150000.0</td>\n",
       "      <td>2.0</td>\n",
       "      <td>10.0</td>\n",
       "      <td>0.0</td>\n",
       "      <td>680.0</td>\n",
       "      <td>7098.0</td>\n",
       "    </tr>\n",
       "    <tr>\n",
       "      <th>4</th>\n",
       "      <td>-1.0</td>\n",
       "      <td>1.0</td>\n",
       "      <td>3.0</td>\n",
       "      <td>1.0</td>\n",
       "      <td>109.0</td>\n",
       "      <td>8.0</td>\n",
       "      <td>150000.0</td>\n",
       "      <td>2.0</td>\n",
       "      <td>25.0</td>\n",
       "      <td>0.0</td>\n",
       "      <td>-1.0</td>\n",
       "      <td>2365.0</td>\n",
       "    </tr>\n",
       "  </tbody>\n",
       "</table>\n",
       "</div>"
      ],
      "text/plain": [
       "   engine_capacity  type  registration_year  gearbox  power  model   mileage  \\\n",
       "0              2.0   0.0             2006.0      0.0  140.0   58.0  150000.0   \n",
       "1             -1.0   7.0             2016.0      2.0    0.0  237.0  150000.0   \n",
       "2              2.2   3.0             2010.0      1.0  175.0  156.0  125000.0   \n",
       "3             -1.0   7.0             2000.0      0.0  265.0   40.0  150000.0   \n",
       "4             -1.0   1.0                3.0      1.0  109.0    8.0  150000.0   \n",
       "\n",
       "   fuel  brand  damage  insurance_price    price  \n",
       "0   2.0    5.0     0.0            380.0   4267.0  \n",
       "1   5.0   20.0    -1.0             -1.0   2457.0  \n",
       "2   1.0   10.0     0.0            930.0  10374.0  \n",
       "3   2.0   10.0     0.0            680.0   7098.0  \n",
       "4   2.0   25.0     0.0             -1.0   2365.0  "
      ]
     },
     "execution_count": 17,
     "metadata": {},
     "output_type": "execute_result"
    }
   ],
   "source": [
    "impured_train.head()"
   ]
  },
  {
   "cell_type": "code",
   "execution_count": 18,
   "id": "526dfd3b-9f3a-41b5-97e2-0463dbcd84de",
   "metadata": {
    "scrolled": true
   },
   "outputs": [
    {
     "data": {
      "text/html": [
       "<div>\n",
       "<style scoped>\n",
       "    .dataframe tbody tr th:only-of-type {\n",
       "        vertical-align: middle;\n",
       "    }\n",
       "\n",
       "    .dataframe tbody tr th {\n",
       "        vertical-align: top;\n",
       "    }\n",
       "\n",
       "    .dataframe thead th {\n",
       "        text-align: right;\n",
       "    }\n",
       "</style>\n",
       "<table border=\"1\" class=\"dataframe\">\n",
       "  <thead>\n",
       "    <tr style=\"text-align: right;\">\n",
       "      <th></th>\n",
       "      <th>engine_capacity</th>\n",
       "      <th>type</th>\n",
       "      <th>registration_year</th>\n",
       "      <th>gearbox</th>\n",
       "      <th>power</th>\n",
       "      <th>model</th>\n",
       "      <th>mileage</th>\n",
       "      <th>fuel</th>\n",
       "      <th>brand</th>\n",
       "      <th>damage</th>\n",
       "      <th>insurance_price</th>\n",
       "    </tr>\n",
       "  </thead>\n",
       "  <tbody>\n",
       "    <tr>\n",
       "      <th>0</th>\n",
       "      <td>2.0</td>\n",
       "      <td>0.0</td>\n",
       "      <td>2006.0</td>\n",
       "      <td>0.0</td>\n",
       "      <td>140.0</td>\n",
       "      <td>58.0</td>\n",
       "      <td>150000.0</td>\n",
       "      <td>2.0</td>\n",
       "      <td>5.0</td>\n",
       "      <td>0.0</td>\n",
       "      <td>380.0</td>\n",
       "    </tr>\n",
       "    <tr>\n",
       "      <th>1</th>\n",
       "      <td>-1.0</td>\n",
       "      <td>7.0</td>\n",
       "      <td>2016.0</td>\n",
       "      <td>2.0</td>\n",
       "      <td>0.0</td>\n",
       "      <td>237.0</td>\n",
       "      <td>150000.0</td>\n",
       "      <td>5.0</td>\n",
       "      <td>20.0</td>\n",
       "      <td>-1.0</td>\n",
       "      <td>-1.0</td>\n",
       "    </tr>\n",
       "    <tr>\n",
       "      <th>2</th>\n",
       "      <td>2.2</td>\n",
       "      <td>3.0</td>\n",
       "      <td>2010.0</td>\n",
       "      <td>1.0</td>\n",
       "      <td>175.0</td>\n",
       "      <td>156.0</td>\n",
       "      <td>125000.0</td>\n",
       "      <td>1.0</td>\n",
       "      <td>10.0</td>\n",
       "      <td>0.0</td>\n",
       "      <td>930.0</td>\n",
       "    </tr>\n",
       "    <tr>\n",
       "      <th>3</th>\n",
       "      <td>-1.0</td>\n",
       "      <td>7.0</td>\n",
       "      <td>2000.0</td>\n",
       "      <td>0.0</td>\n",
       "      <td>265.0</td>\n",
       "      <td>40.0</td>\n",
       "      <td>150000.0</td>\n",
       "      <td>2.0</td>\n",
       "      <td>10.0</td>\n",
       "      <td>0.0</td>\n",
       "      <td>680.0</td>\n",
       "    </tr>\n",
       "    <tr>\n",
       "      <th>4</th>\n",
       "      <td>-1.0</td>\n",
       "      <td>1.0</td>\n",
       "      <td>3.0</td>\n",
       "      <td>1.0</td>\n",
       "      <td>109.0</td>\n",
       "      <td>8.0</td>\n",
       "      <td>150000.0</td>\n",
       "      <td>2.0</td>\n",
       "      <td>25.0</td>\n",
       "      <td>0.0</td>\n",
       "      <td>-1.0</td>\n",
       "    </tr>\n",
       "  </tbody>\n",
       "</table>\n",
       "</div>"
      ],
      "text/plain": [
       "   engine_capacity  type  registration_year  gearbox  power  model   mileage  \\\n",
       "0              2.0   0.0             2006.0      0.0  140.0   58.0  150000.0   \n",
       "1             -1.0   7.0             2016.0      2.0    0.0  237.0  150000.0   \n",
       "2              2.2   3.0             2010.0      1.0  175.0  156.0  125000.0   \n",
       "3             -1.0   7.0             2000.0      0.0  265.0   40.0  150000.0   \n",
       "4             -1.0   1.0                3.0      1.0  109.0    8.0  150000.0   \n",
       "\n",
       "   fuel  brand  damage  insurance_price  \n",
       "0   2.0    5.0     0.0            380.0  \n",
       "1   5.0   20.0    -1.0             -1.0  \n",
       "2   1.0   10.0     0.0            930.0  \n",
       "3   2.0   10.0     0.0            680.0  \n",
       "4   2.0   25.0     0.0             -1.0  "
      ]
     },
     "execution_count": 18,
     "metadata": {},
     "output_type": "execute_result"
    }
   ],
   "source": [
    "train_X = impured_train.drop(labels='price', axis=1)\n",
    "test_X = impured_test\n",
    "\n",
    "train_y = pd.DataFrame(impured_train.iloc[:, 11])\n",
    "\n",
    "train_X.head()"
   ]
  },
  {
   "cell_type": "code",
   "execution_count": 19,
   "id": "72be4d69-0ab2-47c3-bf15-868f0f65f34f",
   "metadata": {},
   "outputs": [
    {
     "data": {
      "text/plain": [
       "(33500, 11)"
      ]
     },
     "execution_count": 19,
     "metadata": {},
     "output_type": "execute_result"
    }
   ],
   "source": [
    "from sklearn.model_selection import train_test_split\n",
    "train_X, valid_X, train_y, valid_y = train_test_split(train_X, train_y, test_size=0.33)\n",
    "\n",
    "train_X.shape"
   ]
  },
  {
   "cell_type": "code",
   "execution_count": 20,
   "id": "46fd5c0f-3bb5-4162-acb4-e674b487f1fb",
   "metadata": {},
   "outputs": [
    {
     "data": {
      "text/html": [
       "<div>\n",
       "<style scoped>\n",
       "    .dataframe tbody tr th:only-of-type {\n",
       "        vertical-align: middle;\n",
       "    }\n",
       "\n",
       "    .dataframe tbody tr th {\n",
       "        vertical-align: top;\n",
       "    }\n",
       "\n",
       "    .dataframe thead th {\n",
       "        text-align: right;\n",
       "    }\n",
       "</style>\n",
       "<table border=\"1\" class=\"dataframe\">\n",
       "  <thead>\n",
       "    <tr style=\"text-align: right;\">\n",
       "      <th></th>\n",
       "      <th>engine_capacity</th>\n",
       "      <th>type</th>\n",
       "      <th>registration_year</th>\n",
       "      <th>gearbox</th>\n",
       "      <th>power</th>\n",
       "      <th>model</th>\n",
       "      <th>mileage</th>\n",
       "      <th>fuel</th>\n",
       "      <th>brand</th>\n",
       "      <th>damage</th>\n",
       "      <th>insurance_price</th>\n",
       "    </tr>\n",
       "  </thead>\n",
       "  <tbody>\n",
       "    <tr>\n",
       "      <th>14763</th>\n",
       "      <td>-1.0</td>\n",
       "      <td>5.0</td>\n",
       "      <td>1.0</td>\n",
       "      <td>1.0</td>\n",
       "      <td>54.0</td>\n",
       "      <td>227.0</td>\n",
       "      <td>150000.0</td>\n",
       "      <td>1.0</td>\n",
       "      <td>27.0</td>\n",
       "      <td>0.0</td>\n",
       "      <td>-1.0</td>\n",
       "    </tr>\n",
       "    <tr>\n",
       "      <th>39737</th>\n",
       "      <td>2.0</td>\n",
       "      <td>0.0</td>\n",
       "      <td>2006.0</td>\n",
       "      <td>1.0</td>\n",
       "      <td>140.0</td>\n",
       "      <td>40.0</td>\n",
       "      <td>100000.0</td>\n",
       "      <td>2.0</td>\n",
       "      <td>5.0</td>\n",
       "      <td>0.0</td>\n",
       "      <td>240.0</td>\n",
       "    </tr>\n",
       "    <tr>\n",
       "      <th>20795</th>\n",
       "      <td>-1.0</td>\n",
       "      <td>0.0</td>\n",
       "      <td>1.0</td>\n",
       "      <td>1.0</td>\n",
       "      <td>114.0</td>\n",
       "      <td>40.0</td>\n",
       "      <td>150000.0</td>\n",
       "      <td>1.0</td>\n",
       "      <td>24.0</td>\n",
       "      <td>0.0</td>\n",
       "      <td>-1.0</td>\n",
       "    </tr>\n",
       "    <tr>\n",
       "      <th>1768</th>\n",
       "      <td>-1.0</td>\n",
       "      <td>1.0</td>\n",
       "      <td>2004.0</td>\n",
       "      <td>0.0</td>\n",
       "      <td>61.0</td>\n",
       "      <td>189.0</td>\n",
       "      <td>50000.0</td>\n",
       "      <td>2.0</td>\n",
       "      <td>32.0</td>\n",
       "      <td>1.0</td>\n",
       "      <td>280.0</td>\n",
       "    </tr>\n",
       "    <tr>\n",
       "      <th>7962</th>\n",
       "      <td>-1.0</td>\n",
       "      <td>6.0</td>\n",
       "      <td>2006.0</td>\n",
       "      <td>1.0</td>\n",
       "      <td>0.0</td>\n",
       "      <td>151.0</td>\n",
       "      <td>150000.0</td>\n",
       "      <td>1.0</td>\n",
       "      <td>27.0</td>\n",
       "      <td>0.0</td>\n",
       "      <td>110.0</td>\n",
       "    </tr>\n",
       "  </tbody>\n",
       "</table>\n",
       "</div>"
      ],
      "text/plain": [
       "       engine_capacity  type  registration_year  gearbox  power  model  \\\n",
       "14763             -1.0   5.0                1.0      1.0   54.0  227.0   \n",
       "39737              2.0   0.0             2006.0      1.0  140.0   40.0   \n",
       "20795             -1.0   0.0                1.0      1.0  114.0   40.0   \n",
       "1768              -1.0   1.0             2004.0      0.0   61.0  189.0   \n",
       "7962              -1.0   6.0             2006.0      1.0    0.0  151.0   \n",
       "\n",
       "        mileage  fuel  brand  damage  insurance_price  \n",
       "14763  150000.0   1.0   27.0     0.0             -1.0  \n",
       "39737  100000.0   2.0    5.0     0.0            240.0  \n",
       "20795  150000.0   1.0   24.0     0.0             -1.0  \n",
       "1768    50000.0   2.0   32.0     1.0            280.0  \n",
       "7962   150000.0   1.0   27.0     0.0            110.0  "
      ]
     },
     "execution_count": 20,
     "metadata": {},
     "output_type": "execute_result"
    }
   ],
   "source": [
    "train_X.head()"
   ]
  },
  {
   "cell_type": "code",
   "execution_count": 21,
   "id": "be24c48a-0d7b-42c0-a791-79c0e3f5ddc7",
   "metadata": {
    "scrolled": false
   },
   "outputs": [
    {
     "data": {
      "text/html": [
       "<div>\n",
       "<style scoped>\n",
       "    .dataframe tbody tr th:only-of-type {\n",
       "        vertical-align: middle;\n",
       "    }\n",
       "\n",
       "    .dataframe tbody tr th {\n",
       "        vertical-align: top;\n",
       "    }\n",
       "\n",
       "    .dataframe thead th {\n",
       "        text-align: right;\n",
       "    }\n",
       "</style>\n",
       "<table border=\"1\" class=\"dataframe\">\n",
       "  <thead>\n",
       "    <tr style=\"text-align: right;\">\n",
       "      <th></th>\n",
       "      <th>price</th>\n",
       "    </tr>\n",
       "  </thead>\n",
       "  <tbody>\n",
       "    <tr>\n",
       "      <th>14763</th>\n",
       "      <td>1046.0</td>\n",
       "    </tr>\n",
       "    <tr>\n",
       "      <th>39737</th>\n",
       "      <td>5460.0</td>\n",
       "    </tr>\n",
       "    <tr>\n",
       "      <th>20795</th>\n",
       "      <td>1456.0</td>\n",
       "    </tr>\n",
       "    <tr>\n",
       "      <th>1768</th>\n",
       "      <td>1592.0</td>\n",
       "    </tr>\n",
       "    <tr>\n",
       "      <th>7962</th>\n",
       "      <td>2002.0</td>\n",
       "    </tr>\n",
       "  </tbody>\n",
       "</table>\n",
       "</div>"
      ],
      "text/plain": [
       "        price\n",
       "14763  1046.0\n",
       "39737  5460.0\n",
       "20795  1456.0\n",
       "1768   1592.0\n",
       "7962   2002.0"
      ]
     },
     "execution_count": 21,
     "metadata": {},
     "output_type": "execute_result"
    }
   ],
   "source": [
    "train_y.head()"
   ]
  },
  {
   "cell_type": "code",
   "execution_count": 22,
   "id": "cbf3b4ea-5f3a-444a-9c10-c9fee2be51f6",
   "metadata": {},
   "outputs": [
    {
     "data": {
      "text/plain": [
       "RandomForestRegressor(n_estimators=5000, random_state=764)"
      ]
     },
     "execution_count": 22,
     "metadata": {},
     "output_type": "execute_result"
    }
   ],
   "source": [
    "from sklearn.ensemble import RandomForestRegressor\n",
    "rf = RandomForestRegressor(n_estimators=5000, random_state=764)\n",
    "rf.fit(train_X, train_y.values.ravel())"
   ]
  },
  {
   "cell_type": "code",
   "execution_count": 23,
   "id": "74e03eb1-e82c-48fc-b227-002eee086160",
   "metadata": {},
   "outputs": [
    {
     "data": {
      "text/plain": [
       "1140.4227334259335"
      ]
     },
     "execution_count": 23,
     "metadata": {},
     "output_type": "execute_result"
    }
   ],
   "source": [
    "from sklearn.metrics import mean_absolute_error\n",
    "y_pred = rf.predict(valid_X)\n",
    "mean_absolute_error(valid_y.values, y_pred)"
   ]
  },
  {
   "cell_type": "code",
   "execution_count": 24,
   "id": "953280ab",
   "metadata": {},
   "outputs": [
    {
     "data": {
      "text/plain": [
       "array([7583.84528   , 6112.0744    ,  840.96361714, ..., 7267.78575   ,\n",
       "       3440.5541    ,  480.2972    ])"
      ]
     },
     "execution_count": 24,
     "metadata": {},
     "output_type": "execute_result"
    }
   ],
   "source": [
    "y_pred"
   ]
  },
  {
   "cell_type": "code",
   "execution_count": null,
   "id": "025e984d",
   "metadata": {},
   "outputs": [],
   "source": [
    "y_pred = rf.predict(test_X)"
   ]
  },
  {
   "cell_type": "code",
   "execution_count": null,
   "id": "f40a9bd7",
   "metadata": {
    "scrolled": true
   },
   "outputs": [],
   "source": [
    "result = pd.read_csv('test_no_target.csv')\n",
    "result = result.drop(labels=result.columns[1:], axis=1)\n",
    "result = result.set_axis(['Id'], axis='columns')\n",
    "result.head()"
   ]
  },
  {
   "cell_type": "code",
   "execution_count": null,
   "id": "358e34f0",
   "metadata": {},
   "outputs": [],
   "source": [
    "y_pred.shape"
   ]
  },
  {
   "cell_type": "code",
   "execution_count": null,
   "id": "66d3a446",
   "metadata": {},
   "outputs": [],
   "source": [
    "test.shape"
   ]
  },
  {
   "cell_type": "code",
   "execution_count": null,
   "id": "c5e32b3b",
   "metadata": {},
   "outputs": [],
   "source": [
    "result.shape"
   ]
  },
  {
   "cell_type": "code",
   "execution_count": null,
   "id": "93b922d7",
   "metadata": {},
   "outputs": [],
   "source": [
    "result.insert(1, 'Predicted', y_pred)\n",
    "result.head()"
   ]
  },
  {
   "cell_type": "code",
   "execution_count": null,
   "id": "f1e8d22c",
   "metadata": {},
   "outputs": [],
   "source": [
    "result.dtypes"
   ]
  },
  {
   "cell_type": "code",
   "execution_count": null,
   "id": "2c298a7e",
   "metadata": {},
   "outputs": [],
   "source": [
    "result['Id'] = result['Id'].astype(int)"
   ]
  },
  {
   "cell_type": "code",
   "execution_count": null,
   "id": "b20d8516",
   "metadata": {
    "scrolled": false
   },
   "outputs": [],
   "source": [
    "result.dtypes"
   ]
  },
  {
   "cell_type": "code",
   "execution_count": null,
   "id": "f07d7959",
   "metadata": {},
   "outputs": [],
   "source": [
    "result.head()"
   ]
  },
  {
   "cell_type": "code",
   "execution_count": null,
   "id": "c10ea9f8",
   "metadata": {},
   "outputs": [],
   "source": [
    "result.to_csv(r'Result.csv', index = False)"
   ]
  },
  {
   "cell_type": "code",
   "execution_count": null,
   "id": "e99db8eb",
   "metadata": {},
   "outputs": [],
   "source": []
  }
 ],
 "metadata": {
  "kernelspec": {
   "display_name": "Python [conda env:tf]",
   "language": "python",
   "name": "conda-env-tf-py"
  },
  "language_info": {
   "codemirror_mode": {
    "name": "ipython",
    "version": 3
   },
   "file_extension": ".py",
   "mimetype": "text/x-python",
   "name": "python",
   "nbconvert_exporter": "python",
   "pygments_lexer": "ipython3",
   "version": "3.8.12"
  }
 },
 "nbformat": 4,
 "nbformat_minor": 5
}
