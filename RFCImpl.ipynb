{
 "cells": [
  {
   "cell_type": "code",
   "execution_count": 1,
   "id": "eef6b7c3",
   "metadata": {},
   "outputs": [],
   "source": [
    "import numpy as np\n",
    "import sklearn as sk\n",
    "import sklearn.tree\n",
    "from collections import Counter"
   ]
  },
  {
   "cell_type": "code",
   "execution_count": 2,
   "id": "0cae39cd",
   "metadata": {},
   "outputs": [],
   "source": [
    "def bootstrap_sample(X, y):\n",
    "    n_samples = X.shape[0]\n",
    "    idxs = np.random.choice(n_samples, n_samples, replace=True)\n",
    "    return X[idxs], y[idxs]"
   ]
  },
  {
   "cell_type": "code",
   "execution_count": 3,
   "id": "42e8d97c",
   "metadata": {},
   "outputs": [],
   "source": [
    "def most_common_label(y):\n",
    "    counter = Counter(y)\n",
    "    most_common = counter.most_common(1)[0][0]\n",
    "    return most_common"
   ]
  },
  {
   "cell_type": "code",
   "execution_count": 4,
   "id": "62f8da35",
   "metadata": {},
   "outputs": [],
   "source": [
    "class RandomForest:\n",
    "    \n",
    "    def __init__(self, n_estimators=2,#\n",
    "                 criterion='gini',\n",
    "                 max_depth=None,\n",
    "                 min_samples_split=2,\n",
    "                 min_samples_leaf=1,\n",
    "                 min_weight_fraction_leaf=0.0,\n",
    "                 max_features='auto',\n",
    "                 max_leaf_nodes=None,\n",
    "                 min_impurity_decrease=0.0,#\n",
    "                 n_feats=None,#\n",
    "                 bootstrap=True,\n",
    "                 random_state=None, \n",
    "                 max_samples=None):\n",
    "        self.n_estimators = n_estimators\n",
    "        self.criterion = criterion\n",
    "        self.max_depth = max_depth\n",
    "        self.min_samples_split = min_samples_split\n",
    "        self.min_samples_leaf = min_samples_leaf\n",
    "        self.min_weight_fraction_leaf = min_weight_fraction_leaf\n",
    "        self.max_features = max_features\n",
    "        self.max_leaf_nodes = max_leaf_nodes\n",
    "        self.min_impurity_decrease = min_impurity_decrease\n",
    "        self.n_feats = n_feats\n",
    "        self.bootstrap = bootstrap \n",
    "        self.random_state = random_state\n",
    "        self.max_samples = max_samples\n",
    "        self.trees = []\n",
    "\n",
    "    def fit(self, X, y):\n",
    "        self.trees = []\n",
    "        for _ in range(self.n_estimators):\n",
    "            tree = sk.tree.DecisionTreeClassifier(criterion = self.criterion,\n",
    "                                                  max_depth = self.max_depth,\n",
    "                                                  min_samples_split = self.min_samples_split,\n",
    "                                                  min_samples_leaf = self.min_samples_leaf,\n",
    "                                                  min_weight_fraction_leaf = self.min_weight_fraction_leaf,\n",
    "                                                  max_features = self.max_features,\n",
    "                                                  max_leaf_nodes = self.max_leaf_nodes,\n",
    "                                                  min_impurity_decrease = self.min_impurity_decrease)\n",
    "            X_samp, y_samp = bootstrap_sample(X, y)\n",
    "            tree.fit(X_samp, y_samp)\n",
    "            self.trees.append(tree)\n",
    "\n",
    "    def predict(self, X):\n",
    "        tree_preds = np.array([tree.predict(X) for tree in self.trees])\n",
    "        tree_preds = np.swapaxes(tree_preds, 0, 1)\n",
    "        y_pred = [most_common_label(tree_pred) for tree_pred in tree_preds]\n",
    "        return np.array(y_pred)"
   ]
  },
  {
   "cell_type": "code",
   "execution_count": 5,
   "id": "24718a8f",
   "metadata": {},
   "outputs": [],
   "source": [
    "from sklearn import datasets"
   ]
  },
  {
   "cell_type": "code",
   "execution_count": 6,
   "id": "7714d18f",
   "metadata": {},
   "outputs": [],
   "source": [
    "def accuracy(y_true, y_pred):\n",
    "  accuracy = np.sum(y_true == y_pred)/len(y_true)\n",
    "  return accuracy"
   ]
  },
  {
   "cell_type": "code",
   "execution_count": 7,
   "id": "1cdb01f1",
   "metadata": {},
   "outputs": [],
   "source": [
    "from sklearn.model_selection import train_test_split"
   ]
  },
  {
   "cell_type": "code",
   "execution_count": 8,
   "id": "4fc31ac3",
   "metadata": {},
   "outputs": [],
   "source": [
    "import pandas as pd\n",
    "import seaborn as sns"
   ]
  },
  {
   "cell_type": "code",
   "execution_count": 9,
   "id": "0fdbbab1",
   "metadata": {},
   "outputs": [],
   "source": [
    "train = pd.read_csv(\"train.csv\")"
   ]
  },
  {
   "cell_type": "code",
   "execution_count": 10,
   "id": "2e4c96d3",
   "metadata": {
    "scrolled": true
   },
   "outputs": [
    {
     "data": {
      "text/html": [
       "<div>\n",
       "<style scoped>\n",
       "    .dataframe tbody tr th:only-of-type {\n",
       "        vertical-align: middle;\n",
       "    }\n",
       "\n",
       "    .dataframe tbody tr th {\n",
       "        vertical-align: top;\n",
       "    }\n",
       "\n",
       "    .dataframe thead th {\n",
       "        text-align: right;\n",
       "    }\n",
       "</style>\n",
       "<table border=\"1\" class=\"dataframe\">\n",
       "  <thead>\n",
       "    <tr style=\"text-align: right;\">\n",
       "      <th></th>\n",
       "      <th>id</th>\n",
       "      <th>f1</th>\n",
       "      <th>f2</th>\n",
       "      <th>f3</th>\n",
       "      <th>f4</th>\n",
       "      <th>f5</th>\n",
       "      <th>f6</th>\n",
       "      <th>f7</th>\n",
       "      <th>f8</th>\n",
       "      <th>f9</th>\n",
       "      <th>...</th>\n",
       "      <th>f110</th>\n",
       "      <th>f111</th>\n",
       "      <th>f112</th>\n",
       "      <th>f113</th>\n",
       "      <th>f114</th>\n",
       "      <th>f115</th>\n",
       "      <th>f116</th>\n",
       "      <th>f117</th>\n",
       "      <th>f118</th>\n",
       "      <th>claim</th>\n",
       "    </tr>\n",
       "  </thead>\n",
       "  <tbody>\n",
       "    <tr>\n",
       "      <th>0</th>\n",
       "      <td>0</td>\n",
       "      <td>0.10859</td>\n",
       "      <td>0.004314</td>\n",
       "      <td>-37.566</td>\n",
       "      <td>0.017364</td>\n",
       "      <td>0.28915</td>\n",
       "      <td>-10.25100</td>\n",
       "      <td>135.12</td>\n",
       "      <td>168900.0</td>\n",
       "      <td>3.992400e+14</td>\n",
       "      <td>...</td>\n",
       "      <td>-12.2280</td>\n",
       "      <td>1.7482</td>\n",
       "      <td>1.90960</td>\n",
       "      <td>-7.11570</td>\n",
       "      <td>4378.80</td>\n",
       "      <td>1.2096</td>\n",
       "      <td>8.613400e+14</td>\n",
       "      <td>140.1</td>\n",
       "      <td>1.01770</td>\n",
       "      <td>1</td>\n",
       "    </tr>\n",
       "    <tr>\n",
       "      <th>1</th>\n",
       "      <td>1</td>\n",
       "      <td>0.10090</td>\n",
       "      <td>0.299610</td>\n",
       "      <td>11822.000</td>\n",
       "      <td>0.276500</td>\n",
       "      <td>0.45970</td>\n",
       "      <td>-0.83733</td>\n",
       "      <td>1721.90</td>\n",
       "      <td>119810.0</td>\n",
       "      <td>3.874100e+15</td>\n",
       "      <td>...</td>\n",
       "      <td>-56.7580</td>\n",
       "      <td>4.1684</td>\n",
       "      <td>0.34808</td>\n",
       "      <td>4.14200</td>\n",
       "      <td>913.23</td>\n",
       "      <td>1.2464</td>\n",
       "      <td>7.575100e+15</td>\n",
       "      <td>1861.0</td>\n",
       "      <td>0.28359</td>\n",
       "      <td>0</td>\n",
       "    </tr>\n",
       "    <tr>\n",
       "      <th>2</th>\n",
       "      <td>2</td>\n",
       "      <td>0.17803</td>\n",
       "      <td>-0.006980</td>\n",
       "      <td>907.270</td>\n",
       "      <td>0.272140</td>\n",
       "      <td>0.45948</td>\n",
       "      <td>0.17327</td>\n",
       "      <td>2298.00</td>\n",
       "      <td>360650.0</td>\n",
       "      <td>1.224500e+13</td>\n",
       "      <td>...</td>\n",
       "      <td>-5.7688</td>\n",
       "      <td>1.2042</td>\n",
       "      <td>0.26290</td>\n",
       "      <td>8.13120</td>\n",
       "      <td>45119.00</td>\n",
       "      <td>1.1764</td>\n",
       "      <td>3.218100e+14</td>\n",
       "      <td>3838.2</td>\n",
       "      <td>0.40690</td>\n",
       "      <td>1</td>\n",
       "    </tr>\n",
       "    <tr>\n",
       "      <th>3</th>\n",
       "      <td>3</td>\n",
       "      <td>0.15236</td>\n",
       "      <td>0.007259</td>\n",
       "      <td>780.100</td>\n",
       "      <td>0.025179</td>\n",
       "      <td>0.51947</td>\n",
       "      <td>7.49140</td>\n",
       "      <td>112.51</td>\n",
       "      <td>259490.0</td>\n",
       "      <td>7.781400e+13</td>\n",
       "      <td>...</td>\n",
       "      <td>-34.8580</td>\n",
       "      <td>2.0694</td>\n",
       "      <td>0.79631</td>\n",
       "      <td>-16.33600</td>\n",
       "      <td>4952.40</td>\n",
       "      <td>1.1784</td>\n",
       "      <td>4.533000e+12</td>\n",
       "      <td>4889.1</td>\n",
       "      <td>0.51486</td>\n",
       "      <td>1</td>\n",
       "    </tr>\n",
       "    <tr>\n",
       "      <th>4</th>\n",
       "      <td>4</td>\n",
       "      <td>0.11623</td>\n",
       "      <td>0.502900</td>\n",
       "      <td>-109.150</td>\n",
       "      <td>0.297910</td>\n",
       "      <td>0.34490</td>\n",
       "      <td>-0.40932</td>\n",
       "      <td>2538.90</td>\n",
       "      <td>65332.0</td>\n",
       "      <td>1.907200e+15</td>\n",
       "      <td>...</td>\n",
       "      <td>-13.6410</td>\n",
       "      <td>1.5298</td>\n",
       "      <td>1.14640</td>\n",
       "      <td>-0.43124</td>\n",
       "      <td>3856.50</td>\n",
       "      <td>1.4830</td>\n",
       "      <td>-8.991300e+12</td>\n",
       "      <td>NaN</td>\n",
       "      <td>0.23049</td>\n",
       "      <td>1</td>\n",
       "    </tr>\n",
       "  </tbody>\n",
       "</table>\n",
       "<p>5 rows × 120 columns</p>\n",
       "</div>"
      ],
      "text/plain": [
       "   id       f1        f2         f3        f4       f5        f6       f7  \\\n",
       "0   0  0.10859  0.004314    -37.566  0.017364  0.28915 -10.25100   135.12   \n",
       "1   1  0.10090  0.299610  11822.000  0.276500  0.45970  -0.83733  1721.90   \n",
       "2   2  0.17803 -0.006980    907.270  0.272140  0.45948   0.17327  2298.00   \n",
       "3   3  0.15236  0.007259    780.100  0.025179  0.51947   7.49140   112.51   \n",
       "4   4  0.11623  0.502900   -109.150  0.297910  0.34490  -0.40932  2538.90   \n",
       "\n",
       "         f8            f9  ...     f110    f111     f112      f113      f114  \\\n",
       "0  168900.0  3.992400e+14  ... -12.2280  1.7482  1.90960  -7.11570   4378.80   \n",
       "1  119810.0  3.874100e+15  ... -56.7580  4.1684  0.34808   4.14200    913.23   \n",
       "2  360650.0  1.224500e+13  ...  -5.7688  1.2042  0.26290   8.13120  45119.00   \n",
       "3  259490.0  7.781400e+13  ... -34.8580  2.0694  0.79631 -16.33600   4952.40   \n",
       "4   65332.0  1.907200e+15  ... -13.6410  1.5298  1.14640  -0.43124   3856.50   \n",
       "\n",
       "     f115          f116    f117     f118  claim  \n",
       "0  1.2096  8.613400e+14   140.1  1.01770      1  \n",
       "1  1.2464  7.575100e+15  1861.0  0.28359      0  \n",
       "2  1.1764  3.218100e+14  3838.2  0.40690      1  \n",
       "3  1.1784  4.533000e+12  4889.1  0.51486      1  \n",
       "4  1.4830 -8.991300e+12     NaN  0.23049      1  \n",
       "\n",
       "[5 rows x 120 columns]"
      ]
     },
     "execution_count": 10,
     "metadata": {},
     "output_type": "execute_result"
    }
   ],
   "source": [
    "train.head()"
   ]
  },
  {
   "cell_type": "code",
   "execution_count": 11,
   "id": "a76f2a82",
   "metadata": {},
   "outputs": [
    {
     "data": {
      "text/plain": [
       "<AxesSubplot:>"
      ]
     },
     "execution_count": 11,
     "metadata": {},
     "output_type": "execute_result"
    },
    {
     "data": {
      "image/png": "[encoded data removed]",
      "text/plain": [
       "<Figure size 432x288 with 2 Axes>"
      ]
     },
     "metadata": {
      "needs_background": "light"
     },
     "output_type": "display_data"
    }
   ],
   "source": [
    "sns.heatmap(train.isna())"
   ]
  },
  {
   "cell_type": "code",
   "execution_count": 12,
   "id": "671c51ef",
   "metadata": {},
   "outputs": [
    {
     "data": {
      "text/plain": [
       "<AxesSubplot:>"
      ]
     },
     "execution_count": 12,
     "metadata": {},
     "output_type": "execute_result"
    },
    {
     "data": {
      "image/png": "[encoded data removed]",
      "text/plain": [
       "<Figure size 432x288 with 2 Axes>"
      ]
     },
     "metadata": {
      "needs_background": "light"
     },
     "output_type": "display_data"
    }
   ],
   "source": [
    "train.dropna(axis=0,inplace=True)\n",
    "sns.heatmap(train.isna())"
   ]
  },
  {
   "cell_type": "code",
   "execution_count": 13,
   "id": "15c2e33b",
   "metadata": {
    "scrolled": true
   },
   "outputs": [
    {
     "data": {
      "text/html": [
       "<div>\n",
       "<style scoped>\n",
       "    .dataframe tbody tr th:only-of-type {\n",
       "        vertical-align: middle;\n",
       "    }\n",
       "\n",
       "    .dataframe tbody tr th {\n",
       "        vertical-align: top;\n",
       "    }\n",
       "\n",
       "    .dataframe thead th {\n",
       "        text-align: right;\n",
       "    }\n",
       "</style>\n",
       "<table border=\"1\" class=\"dataframe\">\n",
       "  <thead>\n",
       "    <tr style=\"text-align: right;\">\n",
       "      <th></th>\n",
       "      <th>f1</th>\n",
       "      <th>f2</th>\n",
       "      <th>f3</th>\n",
       "      <th>f4</th>\n",
       "      <th>f5</th>\n",
       "      <th>f6</th>\n",
       "      <th>f7</th>\n",
       "      <th>f8</th>\n",
       "      <th>f9</th>\n",
       "      <th>f10</th>\n",
       "      <th>...</th>\n",
       "      <th>f109</th>\n",
       "      <th>f110</th>\n",
       "      <th>f111</th>\n",
       "      <th>f112</th>\n",
       "      <th>f113</th>\n",
       "      <th>f114</th>\n",
       "      <th>f115</th>\n",
       "      <th>f116</th>\n",
       "      <th>f117</th>\n",
       "      <th>f118</th>\n",
       "    </tr>\n",
       "  </thead>\n",
       "  <tbody>\n",
       "    <tr>\n",
       "      <th>1</th>\n",
       "      <td>0.100900</td>\n",
       "      <td>0.29961</td>\n",
       "      <td>11822.000</td>\n",
       "      <td>0.276500</td>\n",
       "      <td>0.459700</td>\n",
       "      <td>-0.837330</td>\n",
       "      <td>1721.900</td>\n",
       "      <td>119810.0</td>\n",
       "      <td>3.874100e+15</td>\n",
       "      <td>9953.60000</td>\n",
       "      <td>...</td>\n",
       "      <td>0.976730</td>\n",
       "      <td>-56.7580</td>\n",
       "      <td>4.1684</td>\n",
       "      <td>0.34808</td>\n",
       "      <td>4.14200</td>\n",
       "      <td>913.23</td>\n",
       "      <td>1.2464</td>\n",
       "      <td>7.575100e+15</td>\n",
       "      <td>1861.00</td>\n",
       "      <td>0.28359</td>\n",
       "    </tr>\n",
       "    <tr>\n",
       "      <th>8</th>\n",
       "      <td>-0.008948</td>\n",
       "      <td>0.33802</td>\n",
       "      <td>503.810</td>\n",
       "      <td>0.601520</td>\n",
       "      <td>0.261760</td>\n",
       "      <td>0.735380</td>\n",
       "      <td>1614.000</td>\n",
       "      <td>408030.0</td>\n",
       "      <td>7.684400e+14</td>\n",
       "      <td>5.38200</td>\n",
       "      <td>...</td>\n",
       "      <td>0.307160</td>\n",
       "      <td>-9.5142</td>\n",
       "      <td>2.2176</td>\n",
       "      <td>-1.23750</td>\n",
       "      <td>7.07130</td>\n",
       "      <td>1030.80</td>\n",
       "      <td>1.2040</td>\n",
       "      <td>5.290300e+15</td>\n",
       "      <td>1968.10</td>\n",
       "      <td>0.14593</td>\n",
       "    </tr>\n",
       "    <tr>\n",
       "      <th>9</th>\n",
       "      <td>0.126230</td>\n",
       "      <td>0.17396</td>\n",
       "      <td>1662.000</td>\n",
       "      <td>0.038081</td>\n",
       "      <td>0.000485</td>\n",
       "      <td>0.059909</td>\n",
       "      <td>296.070</td>\n",
       "      <td>-8035.3</td>\n",
       "      <td>4.526300e+15</td>\n",
       "      <td>-90.30400</td>\n",
       "      <td>...</td>\n",
       "      <td>0.007485</td>\n",
       "      <td>-1.9684</td>\n",
       "      <td>3.9595</td>\n",
       "      <td>19.16900</td>\n",
       "      <td>-0.24498</td>\n",
       "      <td>838.39</td>\n",
       "      <td>1.1968</td>\n",
       "      <td>2.567000e+17</td>\n",
       "      <td>4914.90</td>\n",
       "      <td>0.51976</td>\n",
       "    </tr>\n",
       "    <tr>\n",
       "      <th>11</th>\n",
       "      <td>0.078650</td>\n",
       "      <td>0.38745</td>\n",
       "      <td>1025.900</td>\n",
       "      <td>0.082626</td>\n",
       "      <td>0.267070</td>\n",
       "      <td>-1.476200</td>\n",
       "      <td>2170.100</td>\n",
       "      <td>513560.0</td>\n",
       "      <td>9.716600e+12</td>\n",
       "      <td>0.08325</td>\n",
       "      <td>...</td>\n",
       "      <td>0.073060</td>\n",
       "      <td>-17.1010</td>\n",
       "      <td>1.5954</td>\n",
       "      <td>121.02000</td>\n",
       "      <td>-9.33300</td>\n",
       "      <td>45667.00</td>\n",
       "      <td>1.2490</td>\n",
       "      <td>5.059300e+15</td>\n",
       "      <td>5422.30</td>\n",
       "      <td>0.57097</td>\n",
       "    </tr>\n",
       "    <tr>\n",
       "      <th>14</th>\n",
       "      <td>0.072488</td>\n",
       "      <td>0.47341</td>\n",
       "      <td>-22.274</td>\n",
       "      <td>0.002846</td>\n",
       "      <td>0.384460</td>\n",
       "      <td>3.548400</td>\n",
       "      <td>-40.267</td>\n",
       "      <td>739910.0</td>\n",
       "      <td>4.615400e+15</td>\n",
       "      <td>100.20000</td>\n",
       "      <td>...</td>\n",
       "      <td>0.256130</td>\n",
       "      <td>-10.3290</td>\n",
       "      <td>1.6152</td>\n",
       "      <td>195.36000</td>\n",
       "      <td>1.05310</td>\n",
       "      <td>1806.40</td>\n",
       "      <td>1.2229</td>\n",
       "      <td>6.537300e+15</td>\n",
       "      <td>591.48</td>\n",
       "      <td>0.30038</td>\n",
       "    </tr>\n",
       "  </tbody>\n",
       "</table>\n",
       "<p>5 rows × 118 columns</p>\n",
       "</div>"
      ],
      "text/plain": [
       "          f1       f2         f3        f4        f5        f6        f7  \\\n",
       "1   0.100900  0.29961  11822.000  0.276500  0.459700 -0.837330  1721.900   \n",
       "8  -0.008948  0.33802    503.810  0.601520  0.261760  0.735380  1614.000   \n",
       "9   0.126230  0.17396   1662.000  0.038081  0.000485  0.059909   296.070   \n",
       "11  0.078650  0.38745   1025.900  0.082626  0.267070 -1.476200  2170.100   \n",
       "14  0.072488  0.47341    -22.274  0.002846  0.384460  3.548400   -40.267   \n",
       "\n",
       "          f8            f9         f10  ...      f109     f110    f111  \\\n",
       "1   119810.0  3.874100e+15  9953.60000  ...  0.976730 -56.7580  4.1684   \n",
       "8   408030.0  7.684400e+14     5.38200  ...  0.307160  -9.5142  2.2176   \n",
       "9    -8035.3  4.526300e+15   -90.30400  ...  0.007485  -1.9684  3.9595   \n",
       "11  513560.0  9.716600e+12     0.08325  ...  0.073060 -17.1010  1.5954   \n",
       "14  739910.0  4.615400e+15   100.20000  ...  0.256130 -10.3290  1.6152   \n",
       "\n",
       "         f112     f113      f114    f115          f116     f117     f118  \n",
       "1     0.34808  4.14200    913.23  1.2464  7.575100e+15  1861.00  0.28359  \n",
       "8    -1.23750  7.07130   1030.80  1.2040  5.290300e+15  1968.10  0.14593  \n",
       "9    19.16900 -0.24498    838.39  1.1968  2.567000e+17  4914.90  0.51976  \n",
       "11  121.02000 -9.33300  45667.00  1.2490  5.059300e+15  5422.30  0.57097  \n",
       "14  195.36000  1.05310   1806.40  1.2229  6.537300e+15   591.48  0.30038  \n",
       "\n",
       "[5 rows x 118 columns]"
      ]
     },
     "execution_count": 13,
     "metadata": {},
     "output_type": "execute_result"
    }
   ],
   "source": [
    "X_train, X_test, y_train, y_test = train_test_split(train.drop('claim',axis=1).drop('id',axis=1).values, train['claim'].values, test_size=0.25, random_state=123)\n",
    "train.drop('claim',axis=1).drop('id',axis=1).head()"
   ]
  },
  {
   "cell_type": "code",
   "execution_count": 14,
   "id": "3df36da0",
   "metadata": {},
   "outputs": [],
   "source": [
    "mrfc = RandomForest()\n",
    "mrfc.fit(X_train, y_train)"
   ]
  },
  {
   "cell_type": "code",
   "execution_count": 15,
   "id": "57b8de44",
   "metadata": {},
   "outputs": [
    {
     "data": {
      "text/plain": [
       "0.9097730695331567"
      ]
     },
     "execution_count": 15,
     "metadata": {},
     "output_type": "execute_result"
    }
   ],
   "source": [
    "y_pred = mrfc.predict(X_train)\n",
    "accuracy(y_train, y_pred)"
   ]
  },
  {
   "cell_type": "code",
   "execution_count": 16,
   "id": "3af1d9e9",
   "metadata": {},
   "outputs": [
    {
     "data": {
      "text/plain": [
       "0.755202189927225"
      ]
     },
     "execution_count": 16,
     "metadata": {},
     "output_type": "execute_result"
    }
   ],
   "source": [
    "y_pred = mrfc.predict(X_test)\n",
    "accuracy(y_test, y_pred)"
   ]
  },
  {
   "cell_type": "code",
   "execution_count": 17,
   "id": "1e74feb2",
   "metadata": {},
   "outputs": [],
   "source": [
    "from sklearn.ensemble import RandomForestClassifier"
   ]
  },
  {
   "cell_type": "code",
   "execution_count": 18,
   "id": "84c9ed74",
   "metadata": {},
   "outputs": [
    {
     "data": {
      "text/plain": [
       "RandomForestClassifier(n_estimators=2)"
      ]
     },
     "execution_count": 18,
     "metadata": {},
     "output_type": "execute_result"
    }
   ],
   "source": [
    "sklearn_rfc = RandomForestClassifier(n_estimators=2, criterion='gini', \n",
    "                                     max_depth=None, min_samples_split=2, \n",
    "                                     min_samples_leaf=1, min_weight_fraction_leaf=0.0, \n",
    "                                     max_features='auto', max_leaf_nodes=None, \n",
    "                                     min_impurity_decrease=0.0,\n",
    "                                     bootstrap=True, random_state=None, max_samples=None)\n",
    "\n",
    "sklearn_rfc.fit(X_train, y_train)"
   ]
  },
  {
   "cell_type": "code",
   "execution_count": 19,
   "id": "20b8642d",
   "metadata": {
    "scrolled": true
   },
   "outputs": [
    {
     "data": {
      "text/plain": [
       "0.8475730532125609"
      ]
     },
     "execution_count": 19,
     "metadata": {},
     "output_type": "execute_result"
    }
   ],
   "source": [
    "y_pred = sklearn_rfc.predict(X_test)\n",
    "accuracy(y_test, y_pred)"
   ]
  },
  {
   "cell_type": "code",
   "execution_count": 20,
   "id": "286ac26f",
   "metadata": {},
   "outputs": [],
   "source": [
    "from lightgbm import LGBMClassifier"
   ]
  },
  {
   "cell_type": "code",
   "execution_count": 21,
   "id": "ce3afc98",
   "metadata": {},
   "outputs": [
    {
     "name": "stdout",
     "output_type": "stream",
     "text": [
      "[LightGBM] [Warning] Unknown parameter: max_features\n",
      "[LightGBM] [Warning] Unknown parameter: min_impurity_decrease\n",
      "[LightGBM] [Warning] Unknown parameter: min_weight_fraction_leaf\n",
      "[LightGBM] [Warning] Unknown parameter: min_samples_leaf\n",
      "[LightGBM] [Warning] Unknown parameter: min_samples_split\n",
      "[LightGBM] [Warning] Unknown parameter: bootstrap\n",
      "[LightGBM] [Warning] Unknown parameter: criterion\n"
     ]
    },
    {
     "data": {
      "text/plain": [
       "LGBMClassifier(bootstrap=True, criterion='gini', max_depth=None,\n",
       "               max_features='auto', max_leaf_nodes=None, max_samples=None,\n",
       "               min_impurity_decrease=0.0, min_impurity_split=None,\n",
       "               min_samples_leaf=1, min_samples_split=2,\n",
       "               min_weight_fraction_leaf=0.0, n_estimators=2)"
      ]
     },
     "execution_count": 21,
     "metadata": {},
     "output_type": "execute_result"
    }
   ],
   "source": [
    "lightgbm_rfc = LGBMClassifier(n_estimators=2, criterion='gini', \n",
    "                              max_depth=None, min_samples_split=2, \n",
    "                              min_samples_leaf=1, min_weight_fraction_leaf=0.0, \n",
    "                              max_features='auto', max_leaf_nodes=None, \n",
    "                              min_impurity_decrease=0.0, min_impurity_split=None,\n",
    "                              bootstrap=True, random_state=None, max_samples=None)\n",
    "\n",
    "lightgbm_rfc.fit(X_train, y_train)"
   ]
  },
  {
   "cell_type": "code",
   "execution_count": 22,
   "id": "d373b24a",
   "metadata": {},
   "outputs": [
    {
     "data": {
      "text/plain": [
       "0.8660116172968643"
      ]
     },
     "execution_count": 22,
     "metadata": {},
     "output_type": "execute_result"
    }
   ],
   "source": [
    "y_pred = lightgbm_rfc.predict(X_test)\n",
    "accuracy(y_test, y_pred)"
   ]
  },
  {
   "cell_type": "code",
   "execution_count": 23,
   "id": "1ea049cf",
   "metadata": {},
   "outputs": [],
   "source": [
    "from sklearn.feature_selection import SelectKBest\n",
    "from sklearn.feature_selection import f_classif"
   ]
  },
  {
   "cell_type": "code",
   "execution_count": 24,
   "id": "46054683",
   "metadata": {},
   "outputs": [],
   "source": [
    "test = SelectKBest(score_func=f_classif, k=4)\n",
    "fit = test.fit(X_train, y_train)"
   ]
  },
  {
   "cell_type": "code",
   "execution_count": 25,
   "id": "a87b4ee4",
   "metadata": {
    "scrolled": true
   },
   "outputs": [
    {
     "data": {
      "text/plain": [
       "array([12.24622308, 26.40864755, 67.79463941,  9.89420216, 44.29103971,\n",
       "       10.74148215,  9.27587205, 10.59583771, 10.5355659 , 18.24533584,\n",
       "       86.76115312, 27.44838791, 13.32763944,  9.3505075 , 43.79760063,\n",
       "        9.31550809, 18.57624414, 18.15235723, 13.95000781, 38.9225621 ,\n",
       "       48.64726228, 16.10087194, 10.37385047, 10.88954311, 20.45044955,\n",
       "        7.82128812, 11.20861782, 15.17372044, 16.07920855, 11.15741421,\n",
       "        9.40709189, 11.84310169, 10.22482549,  9.01620432])"
      ]
     },
     "execution_count": 25,
     "metadata": {},
     "output_type": "execute_result"
    }
   ],
   "source": [
    "scores = fit.scores_\n",
    "\n",
    "score_mean = np.mean(scores)\n",
    "filter_arr = scores >= score_mean\n",
    "scores = scores[filter_arr]\n",
    "scores"
   ]
  },
  {
   "cell_type": "code",
   "execution_count": 26,
   "id": "856b69c6",
   "metadata": {},
   "outputs": [],
   "source": [
    "dropLabels = train.drop('claim',axis=1).drop('id',axis=1).columns[filter_arr] + 'claim' + 'id'\n",
    "clr_train = train.values\n",
    "X_train, X_test, y_train, y_test = train_test_split(clr_train, train['claim'].values, test_size=0.25, random_state=123)"
   ]
  },
  {
   "cell_type": "code",
   "execution_count": 27,
   "id": "d0973df1",
   "metadata": {},
   "outputs": [],
   "source": [
    "mrfc = RandomForest()\n",
    "mrfc.fit(X_train, y_train)"
   ]
  },
  {
   "cell_type": "code",
   "execution_count": 28,
   "id": "4cb108d4",
   "metadata": {
    "scrolled": true
   },
   "outputs": [
    {
     "data": {
      "text/plain": [
       "0.9900258903997804"
      ]
     },
     "execution_count": 28,
     "metadata": {},
     "output_type": "execute_result"
    }
   ],
   "source": [
    "y_pred = mrfc.predict(X_train)\n",
    "accuracy(y_train, y_pred)"
   ]
  },
  {
   "cell_type": "code",
   "execution_count": 29,
   "id": "cd6dee2f",
   "metadata": {},
   "outputs": [
    {
     "data": {
      "text/plain": [
       "0.972993123094385"
      ]
     },
     "execution_count": 29,
     "metadata": {},
     "output_type": "execute_result"
    }
   ],
   "source": [
    "y_pred = mrfc.predict(X_test)\n",
    "accuracy(y_test, y_pred)"
   ]
  },
  {
   "cell_type": "code",
   "execution_count": 30,
   "id": "72060595",
   "metadata": {},
   "outputs": [],
   "source": [
    "from sklearn.model_selection import RandomizedSearchCV"
   ]
  },
  {
   "cell_type": "code",
   "execution_count": 31,
   "id": "54e8f8cc",
   "metadata": {},
   "outputs": [
    {
     "data": {
      "text/plain": [
       "RandomizedSearchCV(cv=5, estimator=RandomForestClassifier(n_estimators=2),\n",
       "                   param_distributions={'max_depth': range(1, 10),\n",
       "                                        'max_leaf_nodes': range(10, 200),\n",
       "                                        'max_samples': range(10, 10000),\n",
       "                                        'min_samples_leaf': range(1, 100),\n",
       "                                        'min_samples_split': range(2, 50),\n",
       "                                        'n_estimators': range(10, 200)})"
      ]
     },
     "execution_count": 31,
     "metadata": {},
     "output_type": "execute_result"
    }
   ],
   "source": [
    "params = {\n",
    "    'n_estimators': range(10, 200),\n",
    "    'max_depth': range(1, 10),\n",
    "    'min_samples_split': range(2, 50),\n",
    "    'min_samples_leaf': range(1, 100),\n",
    "    'max_leaf_nodes': range(10, 200),\n",
    "    'max_samples': range(10, 10000)\n",
    "}\n",
    "clf = RandomizedSearchCV(sklearn_rfc, params, cv=5)\n",
    "clf.fit(X_train, y_train)"
   ]
  },
  {
   "cell_type": "code",
   "execution_count": 32,
   "id": "c6c8d8df",
   "metadata": {},
   "outputs": [
    {
     "data": {
      "text/plain": [
       "{'n_estimators': 184,\n",
       " 'min_samples_split': 32,\n",
       " 'min_samples_leaf': 24,\n",
       " 'max_samples': 4266,\n",
       " 'max_leaf_nodes': 57,\n",
       " 'max_depth': 8}"
      ]
     },
     "execution_count": 32,
     "metadata": {},
     "output_type": "execute_result"
    }
   ],
   "source": [
    "clf.best_params_"
   ]
  },
  {
   "cell_type": "code",
   "execution_count": 33,
   "id": "64692ded",
   "metadata": {},
   "outputs": [],
   "source": [
    "my_rfc = RandomForest(**clf.best_params_)\n",
    "my_rfc.fit(X_train, y_train)"
   ]
  },
  {
   "cell_type": "code",
   "execution_count": 34,
   "id": "b4a0f840",
   "metadata": {},
   "outputs": [
    {
     "data": {
      "text/plain": [
       "RandomForestClassifier(max_depth=8, max_leaf_nodes=57, max_samples=4266,\n",
       "                       min_samples_leaf=24, min_samples_split=32,\n",
       "                       n_estimators=184)"
      ]
     },
     "execution_count": 34,
     "metadata": {},
     "output_type": "execute_result"
    }
   ],
   "source": [
    "sklearn_rfc = RandomForestClassifier(**clf.best_params_)\n",
    "sklearn_rfc.fit(X_train, y_train)"
   ]
  },
  {
   "cell_type": "code",
   "execution_count": 35,
   "id": "3db39c96",
   "metadata": {},
   "outputs": [
    {
     "name": "stdout",
     "output_type": "stream",
     "text": [
      "[LightGBM] [Warning] Unknown parameter: min_samples_leaf\n",
      "[LightGBM] [Warning] Unknown parameter: min_samples_split\n",
      "[LightGBM] [Warning] Unknown parameter: max_leaf_nodes\n",
      "[LightGBM] [Warning] Unknown parameter: max_samples\n"
     ]
    },
    {
     "data": {
      "text/plain": [
       "LGBMClassifier(max_depth=8, max_leaf_nodes=57, max_samples=4266,\n",
       "               min_samples_leaf=24, min_samples_split=32, n_estimators=184)"
      ]
     },
     "execution_count": 35,
     "metadata": {},
     "output_type": "execute_result"
    }
   ],
   "source": [
    "lightgbm_rfc = LGBMClassifier(**clf.best_params_)\n",
    "lightgbm_rfc.fit(X_train, y_train)"
   ]
  },
  {
   "cell_type": "code",
   "execution_count": 37,
   "id": "94c749f6",
   "metadata": {},
   "outputs": [
    {
     "data": {
      "text/plain": [
       "0.8719649255558276"
      ]
     },
     "execution_count": 37,
     "metadata": {},
     "output_type": "execute_result"
    }
   ],
   "source": [
    "y_pred = my_rfc.predict(X_test)\n",
    "accuracy(y_test, y_pred)"
   ]
  },
  {
   "cell_type": "code",
   "execution_count": 38,
   "id": "d3d44409",
   "metadata": {},
   "outputs": [
    {
     "data": {
      "text/plain": [
       "0.997251463289787"
      ]
     },
     "execution_count": 38,
     "metadata": {},
     "output_type": "execute_result"
    }
   ],
   "source": [
    "y_pred = sklearn_rfc.predict(X_test)\n",
    "accuracy(y_test, y_pred)"
   ]
  },
  {
   "cell_type": "code",
   "execution_count": 39,
   "id": "cb657c2b",
   "metadata": {},
   "outputs": [
    {
     "data": {
      "text/plain": [
       "1.0"
      ]
     },
     "execution_count": 39,
     "metadata": {},
     "output_type": "execute_result"
    }
   ],
   "source": [
    "y_pred = lightgbm_rfc.predict(X_test)\n",
    "accuracy(y_test, y_pred)"
   ]
  },
  {
   "cell_type": "code",
   "execution_count": 40,
   "id": "65c4f02c",
   "metadata": {},
   "outputs": [
    {
     "name": "stdout",
     "output_type": "stream",
     "text": [
      "3.2 s ± 44.8 ms per loop (mean ± std. dev. of 7 runs, 1 loop each)\n"
     ]
    }
   ],
   "source": [
    "%timeit my_rfc.predict(X_test)"
   ]
  },
  {
   "cell_type": "code",
   "execution_count": 41,
   "id": "adab3e37",
   "metadata": {},
   "outputs": [
    {
     "name": "stdout",
     "output_type": "stream",
     "text": [
      "626 ms ± 21.7 ms per loop (mean ± std. dev. of 7 runs, 1 loop each)\n"
     ]
    }
   ],
   "source": [
    "%timeit sklearn_rfc.predict(X_test)"
   ]
  },
  {
   "cell_type": "code",
   "execution_count": 42,
   "id": "876f8fff",
   "metadata": {},
   "outputs": [
    {
     "name": "stdout",
     "output_type": "stream",
     "text": [
      "66.7 ms ± 2.17 ms per loop (mean ± std. dev. of 7 runs, 10 loops each)\n"
     ]
    }
   ],
   "source": [
    "%timeit lightgbm_rfc.predict(X_test)"
   ]
  },
  {
   "cell_type": "code",
   "execution_count": 43,
   "id": "690037b2",
   "metadata": {},
   "outputs": [],
   "source": [
    "class Ensemble:\n",
    "    \n",
    "    def __init__(self, \n",
    "                 n_estimators=100, \n",
    "                 criterion='gini',\n",
    "                 max_depth=None, \n",
    "                 min_samples_split=2,\n",
    "                 min_samples_leaf=1, \n",
    "                 min_weight_fraction_leaf=0.0,\n",
    "                 max_features='auto', \n",
    "                 max_leaf_nodes=None, \n",
    "                 min_impurity_decrease=0.0,\n",
    "                 min_impurity_split=None, \n",
    "                 bootstrap=True, \n",
    "                 random_state=None, \n",
    "                 max_samples=None):\n",
    "        self.n_estimators = n_estimators\n",
    "        self.criterion = criterion\n",
    "        self.max_depth = max_depth\n",
    "        self.min_samples_split = min_samples_split\n",
    "        self.min_samples_leaf = min_samples_leaf\n",
    "        self.min_weight_fraction_leaf = min_weight_fraction_leaf\n",
    "        self.max_features = max_features\n",
    "        self.max_leaf_nodes = max_leaf_nodes\n",
    "        self.min_impurity_decrease = min_impurity_decrease\n",
    "        self.bootstrap = bootstrap\n",
    "        self.random_state = random_state\n",
    "        self.max_samples = max_samples\n",
    "\n",
    "        self.mrfc = RandomForest(n_estimators=self.n_estimators, \n",
    "                                 criterion=self.criterion, \n",
    "                                 max_depth=self.max_depth,\n",
    "                                 min_samples_split=self.min_samples_split, \n",
    "                                 min_weight_fraction_leaf=self.min_weight_fraction_leaf, \n",
    "                                 max_features=self.max_features,\n",
    "                                 max_leaf_nodes=self.max_leaf_nodes, \n",
    "                                 min_impurity_decrease=self.min_impurity_decrease, \n",
    "                                 bootstrap=self.bootstrap, \n",
    "                                 random_state=self.random_state, \n",
    "                                 max_samples=self.max_samples)\n",
    "        \n",
    "        self.srfc = RandomForestClassifier(n_estimators=self.n_estimators, \n",
    "                                           criterion=self.criterion, \n",
    "                                           max_depth=self.max_depth,\n",
    "                                           min_samples_split=self.min_samples_split, \n",
    "                                           min_samples_leaf=self.min_samples_leaf, \n",
    "                                           min_weight_fraction_leaf=self.min_weight_fraction_leaf, \n",
    "                                           max_features=self.max_features,\n",
    "                                           max_leaf_nodes=self.max_leaf_nodes, \n",
    "                                           min_impurity_decrease=self.min_impurity_decrease, \n",
    "                                           bootstrap=self.bootstrap, \n",
    "                                           random_state=self.random_state,\n",
    "                                           max_samples=self.max_samples)\n",
    "        \n",
    "        self.lrfc = LGBMClassifier(n_estimators=self.n_estimators,\n",
    "                                   criterion=self.criterion, \n",
    "                                   max_depth=self.max_depth,\n",
    "                                   min_samples_split=self.min_samples_split, \n",
    "                                   min_samples_leaf=self.min_samples_leaf,\n",
    "                                   min_weight_fraction_leaf=self.min_weight_fraction_leaf, \n",
    "                                   max_features=self.max_features,\n",
    "                                   max_leaf_nodes=self.max_leaf_nodes, \n",
    "                                   min_impurity_decrease=self.min_impurity_decrease,\n",
    "                                   bootstrap=self.bootstrap, \n",
    "                                   random_state=self.random_state,\n",
    "                                   max_samples=self.max_samples)\n",
    "        \n",
    "    def fit(self, x, y):\n",
    "        X_samp, y_samp = bootstrap_sample(x, y)\n",
    "        \n",
    "        self.mrfc.fit(X_samp, y_samp)\n",
    "        self.srfc.fit(X_samp, y_samp)\n",
    "        self.lrfc.fit(X_samp, y_samp)\n",
    "\n",
    "    def predict(self, x):\n",
    "        pred_summ = np.array([0 for item in range(x.shape[0])])\n",
    "\n",
    "        predictions = list(self.mrfc.predict(x))\n",
    "        for i, val in enumerate(predictions):\n",
    "            pred_summ[i] += val\n",
    "            \n",
    "        predictions = list(self.srfc.predict(x))\n",
    "        for i, val in enumerate(predictions):\n",
    "            pred_summ[i] += val\n",
    "\n",
    "        predictions = list(self.lrfc.predict(x))\n",
    "        for i, val in enumerate(predictions):\n",
    "            pred_summ[i] += val\n",
    "    \n",
    "        predictions = [1 if pred > 1 else 0 for pred in pred_summ]\n",
    "        return np.array(predictions)"
   ]
  },
  {
   "cell_type": "code",
   "execution_count": 44,
   "id": "0cbafd87",
   "metadata": {
    "scrolled": true
   },
   "outputs": [
    {
     "name": "stdout",
     "output_type": "stream",
     "text": [
      "[LightGBM] [Warning] Unknown parameter: min_impurity_decrease\n",
      "[LightGBM] [Warning] Unknown parameter: min_weight_fraction_leaf\n",
      "[LightGBM] [Warning] Unknown parameter: min_samples_leaf\n",
      "[LightGBM] [Warning] Unknown parameter: min_samples_split\n",
      "[LightGBM] [Warning] Unknown parameter: max_features\n",
      "[LightGBM] [Warning] Unknown parameter: max_samples\n",
      "[LightGBM] [Warning] Unknown parameter: max_leaf_nodes\n",
      "[LightGBM] [Warning] Unknown parameter: bootstrap\n",
      "[LightGBM] [Warning] Unknown parameter: criterion\n"
     ]
    }
   ],
   "source": [
    "ensamble = Ensemble(**clf.best_params_)\n",
    "ensamble.fit(X_train, y_train)"
   ]
  },
  {
   "cell_type": "code",
   "execution_count": 45,
   "id": "4a3e226d",
   "metadata": {},
   "outputs": [
    {
     "data": {
      "text/plain": [
       "0.979469432265818"
      ]
     },
     "execution_count": 45,
     "metadata": {},
     "output_type": "execute_result"
    }
   ],
   "source": [
    "y_pred = ensamble.predict(X_test)\n",
    "accuracy(y_test, y_pred)"
   ]
  }
 ],
 "metadata": {
  "kernelspec": {
   "display_name": "Python [conda env:root] *",
   "language": "python",
   "name": "conda-root-py"
  },
  "language_info": {
   "codemirror_mode": {
    "name": "ipython",
    "version": 3
   },
   "file_extension": ".py",
   "mimetype": "text/x-python",
   "name": "python",
   "nbconvert_exporter": "python",
   "pygments_lexer": "ipython3",
   "version": "3.9.7"
  }
 },
 "nbformat": 4,
 "nbformat_minor": 5
}
